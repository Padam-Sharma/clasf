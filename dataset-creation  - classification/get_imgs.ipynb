{
 "cells": [
  {
   "cell_type": "code",
   "execution_count": 8,
   "metadata": {},
   "outputs": [],
   "source": [
    "from glob import glob\n",
    "import shutil"
   ]
  },
  {
   "cell_type": "code",
   "execution_count": 20,
   "metadata": {},
   "outputs": [],
   "source": [
    "img_p = '/home/Columba/PADAM/images'\n",
    "prc_p = '/home/Columba/PADAM/parcels/'"
   ]
  },
  {
   "cell_type": "code",
   "execution_count": 21,
   "metadata": {},
   "outputs": [],
   "source": [
    "img_d = sorted(glob(img_p+'/*/*'))"
   ]
  },
  {
   "cell_type": "code",
   "execution_count": 24,
   "metadata": {},
   "outputs": [
    {
     "name": "stdout",
     "output_type": "stream",
     "text": [
      "/home/Columba/PADAM/images/Educational Institute/6390c6b93fcdca5b7c52825f.tif\n",
      "/home/Columba/PADAM/sample/INPUT/type-A/tifs/6390c6b93fcdca5b7c52825f.tif\n",
      "/home/Columba/PADAM/parcels/Educational Institute/6390c6b93fcdca5b7c52825f.geojson\n",
      "/home/Columba/PADAM/sample/INPUT/type-A/annotations/6390c6b93fcdca5b7c52825f.geojson\n",
      "/home/Columba/PADAM/images/Educational Institute/63921d110e33a700697fd01c.tif\n",
      "/home/Columba/PADAM/sample/INPUT/type-A/tifs/63921d110e33a700697fd01c.tif\n",
      "/home/Columba/PADAM/parcels/Educational Institute/63921d110e33a700697fd01c.geojson\n",
      "/home/Columba/PADAM/sample/INPUT/type-A/annotations/63921d110e33a700697fd01c.geojson\n",
      "/home/Columba/PADAM/images/Educational Institute/63923b795a21fd6af2f4fe36.tif\n",
      "/home/Columba/PADAM/sample/INPUT/type-A/tifs/63923b795a21fd6af2f4fe36.tif\n",
      "/home/Columba/PADAM/parcels/Educational Institute/63923b795a21fd6af2f4fe36.geojson\n",
      "/home/Columba/PADAM/sample/INPUT/type-A/annotations/63923b795a21fd6af2f4fe36.geojson\n",
      "/home/Columba/PADAM/images/Educational Institute/639ba85a3b6165ea7194c210.tif\n",
      "/home/Columba/PADAM/sample/INPUT/type-A/tifs/639ba85a3b6165ea7194c210.tif\n",
      "/home/Columba/PADAM/parcels/Educational Institute/639ba85a3b6165ea7194c210.geojson\n",
      "/home/Columba/PADAM/sample/INPUT/type-A/annotations/639ba85a3b6165ea7194c210.geojson\n",
      "/home/Columba/PADAM/images/Educational Institute/639bad0b3b6165ea7194c212.tif\n",
      "/home/Columba/PADAM/sample/INPUT/type-A/tifs/639bad0b3b6165ea7194c212.tif\n",
      "/home/Columba/PADAM/parcels/Educational Institute/639bad0b3b6165ea7194c212.geojson\n",
      "/home/Columba/PADAM/sample/INPUT/type-A/annotations/639bad0b3b6165ea7194c212.geojson\n",
      "/home/Columba/PADAM/images/HoA/63875694400e8feb4ef275de.tif\n",
      "/home/Columba/PADAM/sample/INPUT/type-A/tifs/63875694400e8feb4ef275de.tif\n",
      "/home/Columba/PADAM/parcels/HoA/63875694400e8feb4ef275de.geojson\n",
      "/home/Columba/PADAM/sample/INPUT/type-A/annotations/63875694400e8feb4ef275de.geojson\n",
      "/home/Columba/PADAM/images/HoA/63876ec5400e8feb4ef27644.tif\n",
      "/home/Columba/PADAM/sample/INPUT/type-A/tifs/63876ec5400e8feb4ef27644.tif\n",
      "/home/Columba/PADAM/parcels/HoA/63876ec5400e8feb4ef27644.geojson\n",
      "/home/Columba/PADAM/sample/INPUT/type-A/annotations/63876ec5400e8feb4ef27644.geojson\n",
      "/home/Columba/PADAM/images/HoA/6387788b400e8feb4ef27648.tif\n",
      "/home/Columba/PADAM/sample/INPUT/type-A/tifs/6387788b400e8feb4ef27648.tif\n",
      "/home/Columba/PADAM/parcels/HoA/6387788b400e8feb4ef27648.geojson\n",
      "/home/Columba/PADAM/sample/INPUT/type-A/annotations/6387788b400e8feb4ef27648.geojson\n",
      "/home/Columba/PADAM/images/HoA/63877f28400e8feb4ef2764a.tif\n",
      "/home/Columba/PADAM/sample/INPUT/type-A/tifs/63877f28400e8feb4ef2764a.tif\n",
      "/home/Columba/PADAM/parcels/HoA/63877f28400e8feb4ef2764a.geojson\n",
      "/home/Columba/PADAM/sample/INPUT/type-A/annotations/63877f28400e8feb4ef2764a.geojson\n",
      "/home/Columba/PADAM/images/HoA/63879a75989e25ae528eb72d.tif\n",
      "/home/Columba/PADAM/sample/INPUT/type-A/tifs/63879a75989e25ae528eb72d.tif\n",
      "/home/Columba/PADAM/parcels/HoA/63879a75989e25ae528eb72d.geojson\n",
      "/home/Columba/PADAM/sample/INPUT/type-A/annotations/63879a75989e25ae528eb72d.geojson\n"
     ]
    }
   ],
   "source": [
    "for i in range(10):\n",
    "    img_src = img_d[i]\n",
    "    img_dst = '/home/Columba/PADAM/sample/INPUT/type-A/tifs/'+img_d[i].split('/')[-1]\n",
    "    shutil.copy(img_src, img_dst)\n",
    "\n",
    "    prc_src = img_d[i].replace('.tif','.geojson').replace('images','parcels')\n",
    "    prc_dst = '/home/Columba/PADAM/sample/INPUT/type-A/annotations/'+img_d[i].split('/')[-1].replace('.tif','.geojson')\n",
    "    shutil.copy(prc_src, prc_dst)"
   ]
  },
  {
   "cell_type": "code",
   "execution_count": 31,
   "metadata": {},
   "outputs": [],
   "source": [
    "cls = {'Residential':0, 'Commercial':0, 'HoA':0}\n",
    "comm = []\n",
    "s = []\n",
    "for i in img_d:\n",
    "    s.append(i.split('/')[-2])\n",
    "s=set(s)\n",
    "for i in s:\n",
    "    if(i not in ['Residential', 'HoA']):\n",
    "        comm.append(i)"
   ]
  },
  {
   "cell_type": "code",
   "execution_count": 35,
   "metadata": {},
   "outputs": [
    {
     "data": {
      "text/plain": [
       "['Mall- Plaza',\n",
       " 'Hospital',\n",
       " 'Hotel & Restaurant',\n",
       " 'Single Store',\n",
       " 'Sports Stadium-Fields',\n",
       " 'Office',\n",
       " 'Petrol Pump',\n",
       " 'Warehouse- Distribution Centre',\n",
       " 'Industrial unit',\n",
       " 'Educational Institute']"
      ]
     },
     "execution_count": 35,
     "metadata": {},
     "output_type": "execute_result"
    }
   ],
   "source": [
    "comm"
   ]
  },
  {
   "cell_type": "code",
   "execution_count": 38,
   "metadata": {},
   "outputs": [],
   "source": [
    "for i in img_d:\n",
    "    if i.split('/')[-2] not in comm:\n",
    "        cls[i.split('/')[-2]]+=1\n",
    "    else:\n",
    "        cls['Commercial']+=1"
   ]
  },
  {
   "cell_type": "code",
   "execution_count": 40,
   "metadata": {},
   "outputs": [
    {
     "data": {
      "text/plain": [
       "{'Residential': 90, 'Commercial': 513, 'HoA': 190}"
      ]
     },
     "execution_count": 40,
     "metadata": {},
     "output_type": "execute_result"
    }
   ],
   "source": [
    "cls"
   ]
  },
  {
   "cell_type": "code",
   "execution_count": null,
   "metadata": {},
   "outputs": [],
   "source": [
    "{'Residential': 90, 'Commercial': 513, 'HoA': 190}"
   ]
  },
  {
   "cell_type": "code",
   "execution_count": null,
   "metadata": {},
   "outputs": [
    {
     "ename": "",
     "evalue": "",
     "output_type": "error",
     "traceback": [
      "\u001b[1;31mThe kernel failed to start as the Python Environment 'padam-env' is no longer available. Consider selecting another kernel or refreshing the list of Python Environments."
     ]
    }
   ],
   "source": [
    "import pandas as pd"
   ]
  },
  {
   "cell_type": "code",
   "execution_count": 2,
   "metadata": {},
   "outputs": [
    {
     "ename": "AttributeError",
     "evalue": "module 'pandas' has no attribute 'read_csv'",
     "output_type": "error",
     "traceback": [
      "\u001b[0;31m---------------------------------------------------------------------------\u001b[0m",
      "\u001b[0;31mAttributeError\u001b[0m                            Traceback (most recent call last)",
      "Cell \u001b[0;32mIn[2], line 1\u001b[0m\n\u001b[0;32m----> 1\u001b[0m dec \u001b[39m=\u001b[39m pd\u001b[39m.\u001b[39;49mread_csv(\u001b[39m'\u001b[39m\u001b[39m/home/Columba/PADAM/December month property type - Sheet1.csv\u001b[39m\u001b[39m'\u001b[39m)\n",
      "\u001b[0;31mAttributeError\u001b[0m: module 'pandas' has no attribute 'read_csv'"
     ]
    }
   ],
   "source": [
    "dec = pd.read_csv('/home/Columba/PADAM/December month property type - Sheet1.csv')"
   ]
  },
  {
   "cell_type": "code",
   "execution_count": 47,
   "metadata": {},
   "outputs": [
    {
     "name": "stdout",
     "output_type": "stream",
     "text": [
      "Requirement already satisfied: numpy in /home/Columba/miniconda3/envs/padam-env/lib/python3.9/site-packages (1.24.2)\n",
      "\u001b[31mERROR: Could not install packages due to an OSError: [Errno 2] No such file or directory: '/home/Columba/miniconda3/envs/padam-env/lib/python3.9/site-packages/numpy-1.24.2.dist-info/METADATA'\n",
      "\u001b[0m\u001b[31m\n",
      "\u001b[0m"
     ]
    }
   ],
   "source": [
    "!pip install numpy"
   ]
  },
  {
   "cell_type": "code",
   "execution_count": null,
   "metadata": {},
   "outputs": [],
   "source": []
  }
 ],
 "metadata": {
  "kernelspec": {
   "display_name": "padam-env",
   "language": "python",
   "name": "python3"
  },
  "language_info": {
   "codemirror_mode": {
    "name": "ipython",
    "version": 3
   },
   "file_extension": ".py",
   "mimetype": "text/x-python",
   "name": "python",
   "nbconvert_exporter": "python",
   "pygments_lexer": "ipython3",
   "version": "3.9.16"
  },
  "orig_nbformat": 4,
  "vscode": {
   "interpreter": {
    "hash": "5f1e223bea3a6e1fe2c24c14980205d13a9c5e9fba7eefafa1ee5b723e267114"
   }
  }
 },
 "nbformat": 4,
 "nbformat_minor": 2
}
